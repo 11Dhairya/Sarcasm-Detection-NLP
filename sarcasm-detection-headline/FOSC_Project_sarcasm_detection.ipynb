{
 "cells": [
  {
   "cell_type": "code",
   "execution_count": 119,
   "metadata": {
    "_cell_guid": "b1076dfc-b9ad-4769-8c92-a6c4dae69d19",
    "_uuid": "8f2839f25d086af736a60e9eeb907d3b93b6e0e5",
    "execution": {
     "iopub.execute_input": "2023-05-06T18:31:13.661808Z",
     "iopub.status.busy": "2023-05-06T18:31:13.661247Z",
     "iopub.status.idle": "2023-05-06T18:31:13.679107Z",
     "shell.execute_reply": "2023-05-06T18:31:13.678184Z",
     "shell.execute_reply.started": "2023-05-06T18:31:13.661757Z"
    },
    "id": "Vu9U3AaYyx_1"
   },
   "outputs": [],
   "source": [
    "import numpy as np\n",
    "import pandas as pd"
   ]
  },
  {
   "cell_type": "code",
   "execution_count": 120,
   "metadata": {
    "execution": {
     "iopub.execute_input": "2023-05-06T18:31:13.977600Z",
     "iopub.status.busy": "2023-05-06T18:31:13.977207Z",
     "iopub.status.idle": "2023-05-06T18:31:15.678383Z",
     "shell.execute_reply": "2023-05-06T18:31:15.677561Z",
     "shell.execute_reply.started": "2023-05-06T18:31:13.977551Z"
    },
    "id": "XDKWm3SRyx_7"
   },
   "outputs": [],
   "source": [
    "import nltk\n",
    "from sklearn.preprocessing import LabelBinarizer\n",
    "from nltk.corpus import stopwords\n",
    "from nltk.stem.porter import PorterStemmer\n",
    "from wordcloud import WordCloud,STOPWORDS\n",
    "from nltk.stem import WordNetLemmatizer\n",
    "from nltk.tokenize import word_tokenize,sent_tokenize\n",
    "import re,string,unicodedata\n",
    "from bs4 import BeautifulSoup"
   ]
  },
  {
   "cell_type": "code",
   "execution_count": 121,
   "metadata": {
    "id": "4cwlPwJNyyAF"
   },
   "outputs": [],
   "source": [
    "import json\n",
    "\n",
    "def parse_data(file):\n",
    "    for l in open(file,'r'):\n",
    "        yield json.loads(l)\n",
    "\n",
    "data = list(parse_data('Sarcasm_Headlines_Dataset_v2.json'))"
   ]
  },
  {
   "cell_type": "code",
   "execution_count": 122,
   "metadata": {
    "execution": {
     "iopub.execute_input": "2023-05-06T18:31:15.887593Z",
     "iopub.status.busy": "2023-05-06T18:31:15.887130Z",
     "iopub.status.idle": "2023-05-06T18:31:21.289366Z",
     "shell.execute_reply": "2023-05-06T18:31:21.288269Z",
     "shell.execute_reply.started": "2023-05-06T18:31:15.887547Z"
    },
    "id": "qNLRWBFOyx__"
   },
   "outputs": [],
   "source": [
    "import tensorflow as tf\n",
    "from tensorflow import keras\n",
    "from tensorflow.keras.preprocessing.text import Tokenizer\n",
    "from tensorflow.keras.preprocessing.sequence import pad_sequences"
   ]
  },
  {
   "cell_type": "code",
   "execution_count": 123,
   "metadata": {
    "colab": {
     "base_uri": "https://localhost:8080/"
    },
    "execution": {
     "iopub.execute_input": "2023-05-06T18:31:15.679995Z",
     "iopub.status.busy": "2023-05-06T18:31:15.679703Z",
     "iopub.status.idle": "2023-05-06T18:31:15.694514Z",
     "shell.execute_reply": "2023-05-06T18:31:15.693466Z",
     "shell.execute_reply.started": "2023-05-06T18:31:15.679957Z"
    },
    "id": "F94Rvxg3yx_9",
    "outputId": "c8215cc0-b71c-4870-c35e-774a240e280d"
   },
   "outputs": [
    {
     "name": "stderr",
     "output_type": "stream",
     "text": [
      "[nltk_data] Downloading package stopwords to /root/nltk_data...\n",
      "[nltk_data]   Package stopwords is already up-to-date!\n"
     ]
    }
   ],
   "source": [
    "import nltk\n",
    "nltk.download('stopwords')\n",
    "\n",
    "\n",
    "stop = set(stopwords.words('english'))\n",
    "punctuation=list(string.punctuation)\n",
    "stop.update(punctuation)\n"
   ]
  },
  {
   "cell_type": "code",
   "execution_count": 124,
   "metadata": {
    "execution": {
     "iopub.execute_input": "2023-05-06T18:31:15.859131Z",
     "iopub.status.busy": "2023-05-06T18:31:15.858612Z",
     "iopub.status.idle": "2023-05-06T18:31:15.885420Z",
     "shell.execute_reply": "2023-05-06T18:31:15.884220Z",
     "shell.execute_reply.started": "2023-05-06T18:31:15.859091Z"
    },
    "id": "nVxcPQm8yx__"
   },
   "outputs": [],
   "source": [
    "#create dependent and independent variables\n",
    "sentences = []\n",
    "labels = []\n",
    "urls = []\n",
    "for d in data:\n",
    "    sentences.append(d['headline'])\n",
    "    labels.append(d['is_sarcastic'])\n",
    "    urls.append(d['article_link'])"
   ]
  },
  {
   "cell_type": "code",
   "execution_count": 125,
   "metadata": {
    "execution": {
     "iopub.execute_input": "2023-05-06T18:31:21.291209Z",
     "iopub.status.busy": "2023-05-06T18:31:21.290838Z",
     "iopub.status.idle": "2023-05-06T18:31:21.894167Z",
     "shell.execute_reply": "2023-05-06T18:31:21.893144Z",
     "shell.execute_reply.started": "2023-05-06T18:31:21.291145Z"
    },
    "id": "NBDh7849yyAA"
   },
   "outputs": [],
   "source": [
    "tokenizer = Tokenizer(oov_token = \"<OOV>\")\n",
    "tokenizer.fit_on_texts(sentences)\n",
    "word_index = tokenizer.word_index"
   ]
  },
  {
   "cell_type": "code",
   "execution_count": 126,
   "metadata": {
    "colab": {
     "base_uri": "https://localhost:8080/"
    },
    "execution": {
     "iopub.execute_input": "2023-05-06T18:31:21.895714Z",
     "iopub.status.busy": "2023-05-06T18:31:21.895407Z",
     "iopub.status.idle": "2023-05-06T18:31:21.933230Z",
     "shell.execute_reply": "2023-05-06T18:31:21.932066Z",
     "shell.execute_reply.started": "2023-05-06T18:31:21.895683Z"
    },
    "id": "kg1urn4ayyAA",
    "outputId": "6b149cdd-7f8d-4fd7-9005-d0aeabcba15c"
   },
   "outputs": [
    {
     "data": {
      "text/plain": [
       "['<OOV>', 'to', 'of', 'the', 'in', 'for', 'a', 'on', 'and', 'with']"
      ]
     },
     "execution_count": 126,
     "metadata": {},
     "output_type": "execute_result"
    }
   ],
   "source": [
    "list(word_index.keys())[:10]"
   ]
  },
  {
   "cell_type": "code",
   "execution_count": 127,
   "metadata": {
    "execution": {
     "iopub.execute_input": "2023-05-06T18:31:21.935380Z",
     "iopub.status.busy": "2023-05-06T18:31:21.934757Z",
     "iopub.status.idle": "2023-05-06T18:31:22.503296Z",
     "shell.execute_reply": "2023-05-06T18:31:22.502413Z",
     "shell.execute_reply.started": "2023-05-06T18:31:21.935332Z"
    },
    "id": "rs6LxBFqyyAB"
   },
   "outputs": [],
   "source": [
    "sequences = tokenizer.texts_to_sequences(sentences)\n",
    "padded = pad_sequences(sequences,padding = 'post')"
   ]
  },
  {
   "cell_type": "code",
   "execution_count": 128,
   "metadata": {
    "colab": {
     "base_uri": "https://localhost:8080/"
    },
    "execution": {
     "iopub.execute_input": "2023-05-06T18:31:22.505136Z",
     "iopub.status.busy": "2023-05-06T18:31:22.504555Z",
     "iopub.status.idle": "2023-05-06T18:31:22.727294Z",
     "shell.execute_reply": "2023-05-06T18:31:22.726241Z",
     "shell.execute_reply.started": "2023-05-06T18:31:22.505091Z"
    },
    "id": "v5qi7s8uyyAB",
    "outputId": "78ede332-b087-4eb9-fb56-7759807138b3"
   },
   "outputs": [
    {
     "data": {
      "text/plain": [
       "[16004, 355, 3167, 7474, 2644, 3, 661, 1119]"
      ]
     },
     "execution_count": 128,
     "metadata": {},
     "output_type": "execute_result"
    }
   ],
   "source": [
    "sequences[0]"
   ]
  },
  {
   "cell_type": "code",
   "execution_count": 129,
   "metadata": {
    "colab": {
     "base_uri": "https://localhost:8080/"
    },
    "execution": {
     "iopub.execute_input": "2023-05-06T18:31:22.729237Z",
     "iopub.status.busy": "2023-05-06T18:31:22.728686Z",
     "iopub.status.idle": "2023-05-06T18:31:22.737917Z",
     "shell.execute_reply": "2023-05-06T18:31:22.736942Z",
     "shell.execute_reply.started": "2023-05-06T18:31:22.729196Z"
    },
    "id": "_RX6WxQFyyAB",
    "outputId": "51364fb7-3391-4ec8-db34-4a3055203cd7"
   },
   "outputs": [
    {
     "data": {
      "text/plain": [
       "array([[16004,   355,  3167, ...,     0,     0,     0],\n",
       "       [ 7475,  1775,   758, ...,     0,     0,     0],\n",
       "       [  863,    33, 11427, ...,     0,     0,     0],\n",
       "       ...,\n",
       "       [    4,   100,   629, ...,     0,     0,     0],\n",
       "       [ 1870,  1313,  3317, ...,     0,     0,     0],\n",
       "       [  217,  3283,    21, ...,     0,     0,     0]], dtype=int32)"
      ]
     },
     "execution_count": 129,
     "metadata": {},
     "output_type": "execute_result"
    }
   ],
   "source": [
    "padded"
   ]
  },
  {
   "cell_type": "code",
   "execution_count": 130,
   "metadata": {
    "colab": {
     "base_uri": "https://localhost:8080/"
    },
    "execution": {
     "iopub.execute_input": "2023-05-06T18:31:22.739631Z",
     "iopub.status.busy": "2023-05-06T18:31:22.739209Z",
     "iopub.status.idle": "2023-05-06T18:31:22.749458Z",
     "shell.execute_reply": "2023-05-06T18:31:22.748369Z",
     "shell.execute_reply.started": "2023-05-06T18:31:22.739574Z"
    },
    "id": "keBWQEnpyyAC",
    "outputId": "f14ef58f-1bfb-4656-c36e-4dc59a4585f4"
   },
   "outputs": [
    {
     "name": "stdout",
     "output_type": "stream",
     "text": [
      "[16004   355  3167  7474  2644     3   661  1119     0     0     0     0\n",
      "     0     0     0     0     0     0     0     0     0     0     0     0\n",
      "     0     0     0     0     0     0     0     0     0     0     0     0\n",
      "     0     0     0     0     0     0     0     0     0     0     0     0\n",
      "     0     0     0     0     0     0     0     0     0     0     0     0\n",
      "     0     0     0     0     0     0     0     0     0     0     0     0\n",
      "     0     0     0     0     0     0     0     0     0     0     0     0\n",
      "     0     0     0     0     0     0     0     0     0     0     0     0\n",
      "     0     0     0     0     0     0     0     0     0     0     0     0\n",
      "     0     0     0     0     0     0     0     0     0     0     0     0\n",
      "     0     0     0     0     0     0     0     0     0     0     0     0\n",
      "     0     0     0     0     0     0     0     0     0     0     0     0\n",
      "     0     0     0     0     0     0     0     0]\n",
      "(28619, 152)\n"
     ]
    }
   ],
   "source": [
    "print(padded[0])\n",
    "print(padded.shape)"
   ]
  },
  {
   "cell_type": "code",
   "execution_count": 131,
   "metadata": {
    "execution": {
     "iopub.execute_input": "2023-05-06T18:31:22.751638Z",
     "iopub.status.busy": "2023-05-06T18:31:22.751211Z",
     "iopub.status.idle": "2023-05-06T18:31:22.759011Z",
     "shell.execute_reply": "2023-05-06T18:31:22.758283Z",
     "shell.execute_reply.started": "2023-05-06T18:31:22.751595Z"
    },
    "id": "jlo7DBZ_yyAC"
   },
   "outputs": [],
   "source": [
    "#after looking up on raw data tokens , sequences lets move forward to create training and testing dataset. Henceforth applying neural network\n",
    "vocab_size = 10000\n",
    "embedding_dim = 16\n",
    "max_length = 100\n",
    "trunc_type='post'\n",
    "padding_type='post'\n",
    "oov_tok = \"<OOV>\"\n",
    "training_size = 20000\n"
   ]
  },
  {
   "cell_type": "code",
   "execution_count": 132,
   "metadata": {
    "execution": {
     "iopub.execute_input": "2023-05-06T18:31:22.760553Z",
     "iopub.status.busy": "2023-05-06T18:31:22.760119Z",
     "iopub.status.idle": "2023-05-06T18:31:22.772699Z",
     "shell.execute_reply": "2023-05-06T18:31:22.771674Z",
     "shell.execute_reply.started": "2023-05-06T18:31:22.760522Z"
    },
    "id": "g2d4CRrVyyAD"
   },
   "outputs": [],
   "source": [
    "training_sentences = sentences[0:training_size]\n",
    "testing_sentences = sentences[training_size:]\n",
    "training_labels = labels[0:training_size]\n",
    "testing_labels = labels[training_size:]"
   ]
  },
  {
   "cell_type": "code",
   "execution_count": 133,
   "metadata": {
    "execution": {
     "iopub.execute_input": "2023-05-06T18:31:22.774119Z",
     "iopub.status.busy": "2023-05-06T18:31:22.773817Z",
     "iopub.status.idle": "2023-05-06T18:31:23.905276Z",
     "shell.execute_reply": "2023-05-06T18:31:23.904193Z",
     "shell.execute_reply.started": "2023-05-06T18:31:22.774091Z"
    },
    "id": "LvACsjBMyyAD"
   },
   "outputs": [],
   "source": [
    "tokenizer = Tokenizer(num_words=vocab_size, oov_token=oov_tok)\n",
    "tokenizer.fit_on_texts(training_sentences)\n",
    "\n",
    "word_index = tokenizer.word_index\n",
    "\n",
    "training_sequences = tokenizer.texts_to_sequences(training_sentences)\n",
    "training_padded = pad_sequences(training_sequences, maxlen=max_length, padding=padding_type, truncating=trunc_type)\n",
    "\n",
    "testing_sequences = tokenizer.texts_to_sequences(testing_sentences)\n",
    "testing_padded = pad_sequences(testing_sequences, maxlen=max_length, padding=padding_type, truncating=trunc_type)"
   ]
  },
  {
   "cell_type": "code",
   "execution_count": 134,
   "metadata": {
    "execution": {
     "iopub.execute_input": "2023-05-06T18:31:23.907141Z",
     "iopub.status.busy": "2023-05-06T18:31:23.906722Z",
     "iopub.status.idle": "2023-05-06T18:31:23.923866Z",
     "shell.execute_reply": "2023-05-06T18:31:23.922729Z",
     "shell.execute_reply.started": "2023-05-06T18:31:23.907098Z"
    },
    "id": "Y7WyuLkeyyAD"
   },
   "outputs": [],
   "source": [
    "import numpy as np\n",
    "training_padded = np.array(training_padded)\n",
    "training_labels = np.array(training_labels)\n",
    "testing_padded = np.array(testing_padded)\n",
    "testing_labels = np.array(testing_labels)"
   ]
  },
  {
   "cell_type": "code",
   "execution_count": 135,
   "metadata": {
    "execution": {
     "iopub.execute_input": "2023-05-06T18:31:23.925837Z",
     "iopub.status.busy": "2023-05-06T18:31:23.925405Z",
     "iopub.status.idle": "2023-05-06T18:31:24.061485Z",
     "shell.execute_reply": "2023-05-06T18:31:24.060558Z",
     "shell.execute_reply.started": "2023-05-06T18:31:23.925781Z"
    },
    "id": "S60y2Y2dyyAE"
   },
   "outputs": [],
   "source": [
    "model = tf.keras.Sequential([\n",
    "    tf.keras.layers.Embedding(vocab_size, embedding_dim, input_length=max_length),\n",
    "    tf.keras.layers.GlobalAveragePooling1D(),\n",
    "    tf.keras.layers.Dense(24, activation='relu'),\n",
    "    tf.keras.layers.Dense(1, activation='sigmoid')\n",
    "])\n",
    "model.compile(loss='binary_crossentropy',optimizer='adam',metrics=['accuracy'])"
   ]
  },
  {
   "cell_type": "code",
   "execution_count": 136,
   "metadata": {
    "colab": {
     "base_uri": "https://localhost:8080/"
    },
    "execution": {
     "iopub.execute_input": "2023-05-06T18:31:24.063384Z",
     "iopub.status.busy": "2023-05-06T18:31:24.062921Z",
     "iopub.status.idle": "2023-05-06T18:31:24.071605Z",
     "shell.execute_reply": "2023-05-06T18:31:24.070739Z",
     "shell.execute_reply.started": "2023-05-06T18:31:24.063340Z"
    },
    "id": "7Yz0gk0LyyAE",
    "outputId": "1e71f7dc-d639-4bfe-ff3e-2609b6ae23c8"
   },
   "outputs": [
    {
     "name": "stdout",
     "output_type": "stream",
     "text": [
      "Model: \"sequential_4\"\n",
      "_________________________________________________________________\n",
      " Layer (type)                Output Shape              Param #   \n",
      "=================================================================\n",
      " embedding_4 (Embedding)     (None, 100, 16)           160000    \n",
      "                                                                 \n",
      " global_average_pooling1d_4   (None, 16)               0         \n",
      " (GlobalAveragePooling1D)                                        \n",
      "                                                                 \n",
      " dense_8 (Dense)             (None, 24)                408       \n",
      "                                                                 \n",
      " dense_9 (Dense)             (None, 1)                 25        \n",
      "                                                                 \n",
      "=================================================================\n",
      "Total params: 160,433\n",
      "Trainable params: 160,433\n",
      "Non-trainable params: 0\n",
      "_________________________________________________________________\n"
     ]
    }
   ],
   "source": [
    "model.summary()"
   ]
  },
  {
   "cell_type": "code",
   "execution_count": 137,
   "metadata": {
    "colab": {
     "base_uri": "https://localhost:8080/"
    },
    "execution": {
     "iopub.execute_input": "2023-05-06T18:31:24.073356Z",
     "iopub.status.busy": "2023-05-06T18:31:24.072852Z",
     "iopub.status.idle": "2023-05-06T18:32:16.520235Z",
     "shell.execute_reply": "2023-05-06T18:32:16.519359Z",
     "shell.execute_reply.started": "2023-05-06T18:31:24.073316Z"
    },
    "id": "3cVPhRIFyyAE",
    "outputId": "09b6e684-a088-4393-95c7-79819ada5613"
   },
   "outputs": [
    {
     "name": "stdout",
     "output_type": "stream",
     "text": [
      "Epoch 1/30\n",
      "625/625 - 4s - loss: 0.6432 - accuracy: 0.6471 - val_loss: 0.5003 - val_accuracy: 0.8180 - 4s/epoch - 6ms/step\n",
      "Epoch 2/30\n",
      "625/625 - 3s - loss: 0.3963 - accuracy: 0.8422 - val_loss: 0.3741 - val_accuracy: 0.8363 - 3s/epoch - 5ms/step\n",
      "Epoch 3/30\n",
      "625/625 - 4s - loss: 0.2988 - accuracy: 0.8802 - val_loss: 0.3497 - val_accuracy: 0.8439 - 4s/epoch - 7ms/step\n",
      "Epoch 4/30\n",
      "625/625 - 3s - loss: 0.2489 - accuracy: 0.9030 - val_loss: 0.3347 - val_accuracy: 0.8552 - 3s/epoch - 5ms/step\n",
      "Epoch 5/30\n",
      "625/625 - 3s - loss: 0.2146 - accuracy: 0.9193 - val_loss: 0.3359 - val_accuracy: 0.8559 - 3s/epoch - 5ms/step\n",
      "Epoch 6/30\n",
      "625/625 - 3s - loss: 0.1877 - accuracy: 0.9294 - val_loss: 0.3468 - val_accuracy: 0.8525 - 3s/epoch - 5ms/step\n",
      "Epoch 7/30\n",
      "625/625 - 4s - loss: 0.1673 - accuracy: 0.9387 - val_loss: 0.3611 - val_accuracy: 0.8507 - 4s/epoch - 6ms/step\n",
      "Epoch 8/30\n",
      "625/625 - 2s - loss: 0.1499 - accuracy: 0.9454 - val_loss: 0.4336 - val_accuracy: 0.8305 - 2s/epoch - 4ms/step\n",
      "Epoch 9/30\n",
      "625/625 - 3s - loss: 0.1334 - accuracy: 0.9533 - val_loss: 0.4069 - val_accuracy: 0.8437 - 3s/epoch - 5ms/step\n",
      "Epoch 10/30\n",
      "625/625 - 3s - loss: 0.1210 - accuracy: 0.9575 - val_loss: 0.4294 - val_accuracy: 0.8390 - 3s/epoch - 4ms/step\n",
      "Epoch 11/30\n",
      "625/625 - 3s - loss: 0.1105 - accuracy: 0.9617 - val_loss: 0.5017 - val_accuracy: 0.8276 - 3s/epoch - 5ms/step\n",
      "Epoch 12/30\n",
      "625/625 - 3s - loss: 0.0995 - accuracy: 0.9671 - val_loss: 0.5083 - val_accuracy: 0.8293 - 3s/epoch - 5ms/step\n",
      "Epoch 13/30\n",
      "625/625 - 3s - loss: 0.0923 - accuracy: 0.9696 - val_loss: 0.5150 - val_accuracy: 0.8318 - 3s/epoch - 4ms/step\n",
      "Epoch 14/30\n",
      "625/625 - 3s - loss: 0.0835 - accuracy: 0.9724 - val_loss: 0.5460 - val_accuracy: 0.8301 - 3s/epoch - 5ms/step\n",
      "Epoch 15/30\n",
      "625/625 - 3s - loss: 0.0761 - accuracy: 0.9750 - val_loss: 0.5797 - val_accuracy: 0.8292 - 3s/epoch - 5ms/step\n",
      "Epoch 16/30\n",
      "625/625 - 4s - loss: 0.0702 - accuracy: 0.9778 - val_loss: 0.6810 - val_accuracy: 0.8177 - 4s/epoch - 6ms/step\n",
      "Epoch 17/30\n",
      "625/625 - 3s - loss: 0.0665 - accuracy: 0.9793 - val_loss: 0.6511 - val_accuracy: 0.8231 - 3s/epoch - 4ms/step\n",
      "Epoch 18/30\n",
      "625/625 - 3s - loss: 0.0600 - accuracy: 0.9820 - val_loss: 0.6872 - val_accuracy: 0.8197 - 3s/epoch - 4ms/step\n",
      "Epoch 19/30\n",
      "625/625 - 3s - loss: 0.0563 - accuracy: 0.9825 - val_loss: 0.7246 - val_accuracy: 0.8190 - 3s/epoch - 4ms/step\n",
      "Epoch 20/30\n",
      "625/625 - 4s - loss: 0.0508 - accuracy: 0.9858 - val_loss: 0.7924 - val_accuracy: 0.8174 - 4s/epoch - 6ms/step\n",
      "Epoch 21/30\n",
      "625/625 - 3s - loss: 0.0500 - accuracy: 0.9840 - val_loss: 0.8483 - val_accuracy: 0.8139 - 3s/epoch - 5ms/step\n",
      "Epoch 22/30\n",
      "625/625 - 3s - loss: 0.0414 - accuracy: 0.9883 - val_loss: 0.8671 - val_accuracy: 0.8165 - 3s/epoch - 4ms/step\n",
      "Epoch 23/30\n",
      "625/625 - 3s - loss: 0.0411 - accuracy: 0.9884 - val_loss: 0.9078 - val_accuracy: 0.8133 - 3s/epoch - 4ms/step\n",
      "Epoch 24/30\n",
      "625/625 - 4s - loss: 0.0370 - accuracy: 0.9902 - val_loss: 0.9467 - val_accuracy: 0.8116 - 4s/epoch - 6ms/step\n",
      "Epoch 25/30\n",
      "625/625 - 3s - loss: 0.0346 - accuracy: 0.9909 - val_loss: 0.9487 - val_accuracy: 0.8086 - 3s/epoch - 5ms/step\n",
      "Epoch 26/30\n",
      "625/625 - 3s - loss: 0.0307 - accuracy: 0.9920 - val_loss: 1.0202 - val_accuracy: 0.8103 - 3s/epoch - 5ms/step\n",
      "Epoch 27/30\n",
      "625/625 - 3s - loss: 0.0284 - accuracy: 0.9927 - val_loss: 1.0563 - val_accuracy: 0.8101 - 3s/epoch - 5ms/step\n",
      "Epoch 28/30\n",
      "625/625 - 4s - loss: 0.0253 - accuracy: 0.9934 - val_loss: 1.1993 - val_accuracy: 0.8062 - 4s/epoch - 6ms/step\n",
      "Epoch 29/30\n",
      "625/625 - 3s - loss: 0.0254 - accuracy: 0.9929 - val_loss: 1.1342 - val_accuracy: 0.8052 - 3s/epoch - 4ms/step\n",
      "Epoch 30/30\n",
      "625/625 - 3s - loss: 0.0224 - accuracy: 0.9941 - val_loss: 1.1548 - val_accuracy: 0.7985 - 3s/epoch - 5ms/step\n"
     ]
    }
   ],
   "source": [
    "num_epochs = 30\n",
    "history = model.fit(training_padded, training_labels, epochs=num_epochs, validation_data=(testing_padded, testing_labels), verbose=2)"
   ]
  },
  {
   "cell_type": "code",
   "execution_count": 138,
   "metadata": {
    "colab": {
     "base_uri": "https://localhost:8080/",
     "height": 881
    },
    "execution": {
     "iopub.execute_input": "2023-05-06T18:32:16.522250Z",
     "iopub.status.busy": "2023-05-06T18:32:16.521820Z",
     "iopub.status.idle": "2023-05-06T18:32:16.900862Z",
     "shell.execute_reply": "2023-05-06T18:32:16.900106Z",
     "shell.execute_reply.started": "2023-05-06T18:32:16.522205Z"
    },
    "id": "D452mDuOyyAE",
    "outputId": "1dc3b306-ef4d-4b43-eac0-77a0e5e6a179"
   },
   "outputs": [
    {
     "data": {
      "image/png": "[encoded data removed]",
      "text/plain": [
       "<Figure size 640x480 with 1 Axes>"
      ]
     },
     "metadata": {},
     "output_type": "display_data"
    },
    {
     "data": {
      "image/png": "[encoded data removed]",
      "text/plain": [
       "<Figure size 640x480 with 1 Axes>"
      ]
     },
     "metadata": {},
     "output_type": "display_data"
    }
   ],
   "source": [
    "import matplotlib.pyplot as plt\n",
    "\n",
    "\n",
    "def plot_graphs(history, string):\n",
    "  plt.plot(history.history[string])\n",
    "  plt.plot(history.history['val_'+string])\n",
    "  plt.xlabel(\"Epochs\")\n",
    "  plt.ylabel(string)\n",
    "  plt.legend([string, 'val_'+string])\n",
    "  plt.show()\n",
    "  \n",
    "plot_graphs(history, \"accuracy\")\n",
    "plot_graphs(history, \"loss\")"
   ]
  },
  {
   "cell_type": "code",
   "execution_count": 139,
   "metadata": {
    "colab": {
     "base_uri": "https://localhost:8080/"
    },
    "execution": {
     "iopub.execute_input": "2023-05-06T18:32:16.902666Z",
     "iopub.status.busy": "2023-05-06T18:32:16.902137Z",
     "iopub.status.idle": "2023-05-06T18:32:17.204705Z",
     "shell.execute_reply": "2023-05-06T18:32:17.203780Z",
     "shell.execute_reply.started": "2023-05-06T18:32:16.902633Z"
    },
    "id": "x2ERbjGdyyAF",
    "outputId": "e9c4e203-0d04-4eb8-804d-f4bbee4d0813"
   },
   "outputs": [
    {
     "name": "stdout",
     "output_type": "stream",
     "text": [
      "270/270 [==============================] - 1s 2ms/step\n"
     ]
    }
   ],
   "source": [
    "pred = (model.predict(testing_padded) > 0.5).astype(\"int32\")"
   ]
  },
  {
   "cell_type": "code",
   "execution_count": 140,
   "metadata": {
    "colab": {
     "base_uri": "https://localhost:8080/"
    },
    "execution": {
     "iopub.execute_input": "2023-05-06T18:32:17.206515Z",
     "iopub.status.busy": "2023-05-06T18:32:17.206061Z",
     "iopub.status.idle": "2023-05-06T18:32:17.233016Z",
     "shell.execute_reply": "2023-05-06T18:32:17.232028Z",
     "shell.execute_reply.started": "2023-05-06T18:32:17.206472Z"
    },
    "id": "XN3zr_OjyyAF",
    "outputId": "90c42cd6-67b3-4b8d-d296-c66a8fc774b0"
   },
   "outputs": [
    {
     "name": "stdout",
     "output_type": "stream",
     "text": [
      "               precision    recall  f1-score   support\n",
      "\n",
      "Not Sarcastic       0.85      0.75      0.80      4524\n",
      "    Sarcastic       0.76      0.85      0.80      4095\n",
      "\n",
      "     accuracy                           0.80      8619\n",
      "    macro avg       0.80      0.80      0.80      8619\n",
      " weighted avg       0.80      0.80      0.80      8619\n",
      "\n"
     ]
    }
   ],
   "source": [
    "from sklearn.metrics import classification_report\n",
    "\n",
    "print(classification_report(testing_labels,pred,target_names = ['Not Sarcastic','Sarcastic']))"
   ]
  },
  {
   "cell_type": "code",
   "execution_count": null,
   "metadata": {
    "id": "gkysAicO6QS7"
   },
   "outputs": [],
   "source": []
  }
 ],
 "metadata": {
  "colab": {
   "provenance": []
  },
  "kernelspec": {
   "display_name": "Python 3 (ipykernel)",
   "language": "python",
   "name": "python3"
  },
  "language_info": {
   "codemirror_mode": {
    "name": "ipython",
    "version": 3
   },
   "file_extension": ".py",
   "mimetype": "text/x-python",
   "name": "python",
   "nbconvert_exporter": "python",
   "pygments_lexer": "ipython3",
   "version": "3.9.12"
  }
 },
 "nbformat": 4,
 "nbformat_minor": 1
}
