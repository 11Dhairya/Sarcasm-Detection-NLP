{
 "cells": [
  {
   "cell_type": "code",
   "execution_count": 1,
   "metadata": {
    "_cell_guid": "b1076dfc-b9ad-4769-8c92-a6c4dae69d19",
    "_uuid": "8f2839f25d086af736a60e9eeb907d3b93b6e0e5",
    "execution": {
     "iopub.execute_input": "2023-05-06T18:31:13.661808Z",
     "iopub.status.busy": "2023-05-06T18:31:13.661247Z",
     "iopub.status.idle": "2023-05-06T18:31:13.679107Z",
     "shell.execute_reply": "2023-05-06T18:31:13.678184Z",
     "shell.execute_reply.started": "2023-05-06T18:31:13.661757Z"
    },
    "id": "Vu9U3AaYyx_1"
   },
   "outputs": [],
   "source": [
    "import numpy as np\n",
    "import pandas as pd"
   ]
  },
  {
   "cell_type": "code",
   "execution_count": 2,
   "metadata": {
    "execution": {
     "iopub.execute_input": "2023-05-06T18:31:13.977600Z",
     "iopub.status.busy": "2023-05-06T18:31:13.977207Z",
     "iopub.status.idle": "2023-05-06T18:31:15.678383Z",
     "shell.execute_reply": "2023-05-06T18:31:15.677561Z",
     "shell.execute_reply.started": "2023-05-06T18:31:13.977551Z"
    },
    "id": "XDKWm3SRyx_7"
   },
   "outputs": [],
   "source": [
    "import nltk\n",
    "from sklearn.preprocessing import LabelBinarizer\n",
    "from nltk.corpus import stopwords\n",
    "from nltk.stem.porter import PorterStemmer\n",
    "from wordcloud import WordCloud,STOPWORDS\n",
    "from nltk.stem import WordNetLemmatizer\n",
    "from nltk.tokenize import word_tokenize,sent_tokenize\n",
    "import re,string,unicodedata\n",
    "from bs4 import BeautifulSoup"
   ]
  },
  {
   "cell_type": "code",
   "execution_count": 17,
   "metadata": {},
   "outputs": [],
   "source": [
    "df = pd.read_json('Sarcasm_Headlines_Dataset_v2.json', lines=True)"
   ]
  },
  {
   "cell_type": "code",
   "execution_count": 18,
   "metadata": {},
   "outputs": [
    {
     "data": {
      "text/html": [
       "<div>\n",
       "<style scoped>\n",
       "    .dataframe tbody tr th:only-of-type {\n",
       "        vertical-align: middle;\n",
       "    }\n",
       "\n",
       "    .dataframe tbody tr th {\n",
       "        vertical-align: top;\n",
       "    }\n",
       "\n",
       "    .dataframe thead th {\n",
       "        text-align: right;\n",
       "    }\n",
       "</style>\n",
       "<table border=\"1\" class=\"dataframe\">\n",
       "  <thead>\n",
       "    <tr style=\"text-align: right;\">\n",
       "      <th></th>\n",
       "      <th>is_sarcastic</th>\n",
       "      <th>headline</th>\n",
       "      <th>article_link</th>\n",
       "    </tr>\n",
       "  </thead>\n",
       "  <tbody>\n",
       "    <tr>\n",
       "      <th>0</th>\n",
       "      <td>1</td>\n",
       "      <td>thirtysomething scientists unveil doomsday clo...</td>\n",
       "      <td>https://www.theonion.com/thirtysomething-scien...</td>\n",
       "    </tr>\n",
       "    <tr>\n",
       "      <th>1</th>\n",
       "      <td>0</td>\n",
       "      <td>dem rep. totally nails why congress is falling...</td>\n",
       "      <td>https://www.huffingtonpost.com/entry/donna-edw...</td>\n",
       "    </tr>\n",
       "    <tr>\n",
       "      <th>2</th>\n",
       "      <td>0</td>\n",
       "      <td>eat your veggies: 9 deliciously different recipes</td>\n",
       "      <td>https://www.huffingtonpost.com/entry/eat-your-...</td>\n",
       "    </tr>\n",
       "    <tr>\n",
       "      <th>3</th>\n",
       "      <td>1</td>\n",
       "      <td>inclement weather prevents liar from getting t...</td>\n",
       "      <td>https://local.theonion.com/inclement-weather-p...</td>\n",
       "    </tr>\n",
       "    <tr>\n",
       "      <th>4</th>\n",
       "      <td>1</td>\n",
       "      <td>mother comes pretty close to using word 'strea...</td>\n",
       "      <td>https://www.theonion.com/mother-comes-pretty-c...</td>\n",
       "    </tr>\n",
       "  </tbody>\n",
       "</table>\n",
       "</div>"
      ],
      "text/plain": [
       "   is_sarcastic                                           headline  \\\n",
       "0             1  thirtysomething scientists unveil doomsday clo...   \n",
       "1             0  dem rep. totally nails why congress is falling...   \n",
       "2             0  eat your veggies: 9 deliciously different recipes   \n",
       "3             1  inclement weather prevents liar from getting t...   \n",
       "4             1  mother comes pretty close to using word 'strea...   \n",
       "\n",
       "                                        article_link  \n",
       "0  https://www.theonion.com/thirtysomething-scien...  \n",
       "1  https://www.huffingtonpost.com/entry/donna-edw...  \n",
       "2  https://www.huffingtonpost.com/entry/eat-your-...  \n",
       "3  https://local.theonion.com/inclement-weather-p...  \n",
       "4  https://www.theonion.com/mother-comes-pretty-c...  "
      ]
     },
     "execution_count": 18,
     "metadata": {},
     "output_type": "execute_result"
    }
   ],
   "source": [
    "df.head()"
   ]
  },
  {
   "cell_type": "code",
   "execution_count": 19,
   "metadata": {},
   "outputs": [],
   "source": [
    "# Cleaning text for only Column - > context\n",
    "def clean_text(text):\n",
    "       \n",
    "    # Convert sentence to lowercase\n",
    "    text = text.lower()\n",
    "\n",
    "    # Remove all punctuation\n",
    "    text = text.translate(str.maketrans(\"\", \"\", string.punctuation))\n",
    "\n",
    "    # Remove Apostrophe & Full-Stop\n",
    "    if \"'\" in text:\n",
    "        text = text.replace(\"'\", \"\")\n",
    "    if \".\" in text:\n",
    "        text = text.replace(\".\", \"\")\n",
    "\n",
    "    # Remove all digits\n",
    "    text = re.sub(r\"\\d+\", \"\", text)\n",
    "\n",
    "    # Remove all extra whitespace\n",
    "    text = re.sub(r\"\\s+\", \" \", text).strip()\n",
    "\n",
    "    # Remove all stop words (optional)\n",
    "    stop_words = set(stopwords.words('english'))\n",
    "    text = ' '.join([word for word in text.split() if word not in stop_words])\n",
    "\n",
    "    return text"
   ]
  },
  {
   "cell_type": "code",
   "execution_count": 20,
   "metadata": {},
   "outputs": [
    {
     "data": {
      "text/html": [
       "<div>\n",
       "<style scoped>\n",
       "    .dataframe tbody tr th:only-of-type {\n",
       "        vertical-align: middle;\n",
       "    }\n",
       "\n",
       "    .dataframe tbody tr th {\n",
       "        vertical-align: top;\n",
       "    }\n",
       "\n",
       "    .dataframe thead th {\n",
       "        text-align: right;\n",
       "    }\n",
       "</style>\n",
       "<table border=\"1\" class=\"dataframe\">\n",
       "  <thead>\n",
       "    <tr style=\"text-align: right;\">\n",
       "      <th></th>\n",
       "      <th>is_sarcastic</th>\n",
       "      <th>headline</th>\n",
       "    </tr>\n",
       "  </thead>\n",
       "  <tbody>\n",
       "    <tr>\n",
       "      <th>0</th>\n",
       "      <td>1</td>\n",
       "      <td>thirtysomething scientists unveil doomsday clo...</td>\n",
       "    </tr>\n",
       "    <tr>\n",
       "      <th>1</th>\n",
       "      <td>0</td>\n",
       "      <td>dem rep. totally nails why congress is falling...</td>\n",
       "    </tr>\n",
       "    <tr>\n",
       "      <th>2</th>\n",
       "      <td>0</td>\n",
       "      <td>eat your veggies: 9 deliciously different recipes</td>\n",
       "    </tr>\n",
       "    <tr>\n",
       "      <th>3</th>\n",
       "      <td>1</td>\n",
       "      <td>inclement weather prevents liar from getting t...</td>\n",
       "    </tr>\n",
       "    <tr>\n",
       "      <th>4</th>\n",
       "      <td>1</td>\n",
       "      <td>mother comes pretty close to using word 'strea...</td>\n",
       "    </tr>\n",
       "  </tbody>\n",
       "</table>\n",
       "</div>"
      ],
      "text/plain": [
       "   is_sarcastic                                           headline\n",
       "0             1  thirtysomething scientists unveil doomsday clo...\n",
       "1             0  dem rep. totally nails why congress is falling...\n",
       "2             0  eat your veggies: 9 deliciously different recipes\n",
       "3             1  inclement weather prevents liar from getting t...\n",
       "4             1  mother comes pretty close to using word 'strea..."
      ]
     },
     "execution_count": 20,
     "metadata": {},
     "output_type": "execute_result"
    }
   ],
   "source": [
    "df = df.drop(['article_link'], axis = 1)\n",
    "df.head()"
   ]
  },
  {
   "cell_type": "code",
   "execution_count": 44,
   "metadata": {},
   "outputs": [],
   "source": [
    "df['headline'] = df['headline'].apply(clean_text)"
   ]
  },
  {
   "cell_type": "code",
   "execution_count": 45,
   "metadata": {},
   "outputs": [
    {
     "data": {
      "text/html": [
       "<div>\n",
       "<style scoped>\n",
       "    .dataframe tbody tr th:only-of-type {\n",
       "        vertical-align: middle;\n",
       "    }\n",
       "\n",
       "    .dataframe tbody tr th {\n",
       "        vertical-align: top;\n",
       "    }\n",
       "\n",
       "    .dataframe thead th {\n",
       "        text-align: right;\n",
       "    }\n",
       "</style>\n",
       "<table border=\"1\" class=\"dataframe\">\n",
       "  <thead>\n",
       "    <tr style=\"text-align: right;\">\n",
       "      <th></th>\n",
       "      <th>is_sarcastic</th>\n",
       "      <th>headline</th>\n",
       "    </tr>\n",
       "  </thead>\n",
       "  <tbody>\n",
       "    <tr>\n",
       "      <th>0</th>\n",
       "      <td>1</td>\n",
       "      <td>thirtysomething scientist unveil doomsday cloc...</td>\n",
       "    </tr>\n",
       "    <tr>\n",
       "      <th>1</th>\n",
       "      <td>0</td>\n",
       "      <td>dem rep totally nail congress fall short gende...</td>\n",
       "    </tr>\n",
       "    <tr>\n",
       "      <th>2</th>\n",
       "      <td>0</td>\n",
       "      <td>eat veggie deliciously different recipe</td>\n",
       "    </tr>\n",
       "    <tr>\n",
       "      <th>3</th>\n",
       "      <td>1</td>\n",
       "      <td>inclement weather prevents liar get work</td>\n",
       "    </tr>\n",
       "    <tr>\n",
       "      <th>4</th>\n",
       "      <td>1</td>\n",
       "      <td>mother come pretty close use word stream corre...</td>\n",
       "    </tr>\n",
       "  </tbody>\n",
       "</table>\n",
       "</div>"
      ],
      "text/plain": [
       "   is_sarcastic                                           headline\n",
       "0             1  thirtysomething scientist unveil doomsday cloc...\n",
       "1             0  dem rep totally nail congress fall short gende...\n",
       "2             0            eat veggie deliciously different recipe\n",
       "3             1           inclement weather prevents liar get work\n",
       "4             1  mother come pretty close use word stream corre..."
      ]
     },
     "execution_count": 45,
     "metadata": {},
     "output_type": "execute_result"
    }
   ],
   "source": [
    "df.head()"
   ]
  },
  {
   "cell_type": "code",
   "execution_count": 46,
   "metadata": {},
   "outputs": [],
   "source": [
    "# Lemmatization\n",
    "\n",
    "from nltk.corpus import wordnet\n",
    "from nltk.stem import WordNetLemmatizer\n",
    "\n",
    "# initialize lemmatizer\n",
    "lemmatizer = WordNetLemmatizer()\n",
    "\n",
    "# define function to map POS tag to WordNet POS tag\n",
    "def get_wordnet_pos(word):\n",
    "    \"\"\"Map POS tag to WordNet POS tag\"\"\"\n",
    "    tag = nltk.pos_tag([word])[0][1]\n",
    "    if tag.startswith('J'):\n",
    "        return wordnet.ADJ\n",
    "    elif tag.startswith('V'):\n",
    "        return wordnet.VERB\n",
    "    elif tag.startswith('N'):\n",
    "        return wordnet.NOUN\n",
    "    elif tag.startswith('R'):\n",
    "        return wordnet.ADV\n",
    "    else:\n",
    "        return wordnet.NOUN\n",
    "\n",
    "# define function to perform lemmatization on a sentence of CONTEXT & UTTERANCES\n",
    "def lemmatization(sentence):\n",
    "\n",
    "    # tokenize each sentence in cell\n",
    "    tokens = sentence.split(\" \")\n",
    "\n",
    "    # lemmatize each tokens\n",
    "    lemmatized_list_of_tokens = [lemmatizer.lemmatize(token, get_wordnet_pos(token)) for token in tokens]\n",
    "\n",
    "    # join to form sentence\n",
    "    res = ' '.join([word for word in lemmatized_list_of_tokens])\n",
    "   \n",
    "    return res\n"
   ]
  },
  {
   "cell_type": "code",
   "execution_count": 47,
   "metadata": {},
   "outputs": [],
   "source": [
    "df['headline'] = df['headline'].apply(lemmatization)\n",
    "df['headline'] = df['headline'].apply(clean_text)\n",
    "df['headline'] = df['headline'].apply(lemmatization)"
   ]
  },
  {
   "cell_type": "code",
   "execution_count": 48,
   "metadata": {},
   "outputs": [
    {
     "data": {
      "text/html": [
       "<div>\n",
       "<style scoped>\n",
       "    .dataframe tbody tr th:only-of-type {\n",
       "        vertical-align: middle;\n",
       "    }\n",
       "\n",
       "    .dataframe tbody tr th {\n",
       "        vertical-align: top;\n",
       "    }\n",
       "\n",
       "    .dataframe thead th {\n",
       "        text-align: right;\n",
       "    }\n",
       "</style>\n",
       "<table border=\"1\" class=\"dataframe\">\n",
       "  <thead>\n",
       "    <tr style=\"text-align: right;\">\n",
       "      <th></th>\n",
       "      <th>is_sarcastic</th>\n",
       "      <th>headline</th>\n",
       "    </tr>\n",
       "  </thead>\n",
       "  <tbody>\n",
       "    <tr>\n",
       "      <th>0</th>\n",
       "      <td>1</td>\n",
       "      <td>thirtysomething scientist unveil doomsday cloc...</td>\n",
       "    </tr>\n",
       "    <tr>\n",
       "      <th>1</th>\n",
       "      <td>0</td>\n",
       "      <td>dem rep totally nail congress fall short gende...</td>\n",
       "    </tr>\n",
       "    <tr>\n",
       "      <th>2</th>\n",
       "      <td>0</td>\n",
       "      <td>eat veggie deliciously different recipe</td>\n",
       "    </tr>\n",
       "    <tr>\n",
       "      <th>3</th>\n",
       "      <td>1</td>\n",
       "      <td>inclement weather prevents liar get work</td>\n",
       "    </tr>\n",
       "    <tr>\n",
       "      <th>4</th>\n",
       "      <td>1</td>\n",
       "      <td>mother come pretty close use word stream corre...</td>\n",
       "    </tr>\n",
       "  </tbody>\n",
       "</table>\n",
       "</div>"
      ],
      "text/plain": [
       "   is_sarcastic                                           headline\n",
       "0             1  thirtysomething scientist unveil doomsday cloc...\n",
       "1             0  dem rep totally nail congress fall short gende...\n",
       "2             0            eat veggie deliciously different recipe\n",
       "3             1           inclement weather prevents liar get work\n",
       "4             1  mother come pretty close use word stream corre..."
      ]
     },
     "execution_count": 48,
     "metadata": {},
     "output_type": "execute_result"
    }
   ],
   "source": [
    "df.head()"
   ]
  },
  {
   "cell_type": "code",
   "execution_count": 49,
   "metadata": {},
   "outputs": [],
   "source": [
    "df.to_csv('Processed_headline_data.csv')"
   ]
  },
  {
   "cell_type": "code",
   "execution_count": 50,
   "metadata": {
    "execution": {
     "iopub.execute_input": "2023-05-06T18:31:15.887593Z",
     "iopub.status.busy": "2023-05-06T18:31:15.887130Z",
     "iopub.status.idle": "2023-05-06T18:31:21.289366Z",
     "shell.execute_reply": "2023-05-06T18:31:21.288269Z",
     "shell.execute_reply.started": "2023-05-06T18:31:15.887547Z"
    },
    "id": "qNLRWBFOyx__"
   },
   "outputs": [],
   "source": [
    "import tensorflow as tf\n",
    "from tensorflow import keras\n",
    "from tensorflow.keras.preprocessing.text import Tokenizer\n",
    "from tensorflow.keras.preprocessing.sequence import pad_sequences"
   ]
  },
  {
   "cell_type": "code",
   "execution_count": 51,
   "metadata": {
    "execution": {
     "iopub.execute_input": "2023-05-06T18:31:15.859131Z",
     "iopub.status.busy": "2023-05-06T18:31:15.858612Z",
     "iopub.status.idle": "2023-05-06T18:31:15.885420Z",
     "shell.execute_reply": "2023-05-06T18:31:15.884220Z",
     "shell.execute_reply.started": "2023-05-06T18:31:15.859091Z"
    },
    "id": "nVxcPQm8yx__"
   },
   "outputs": [],
   "source": [
    "#create dependent and independent variables\n",
    "sentences = []\n",
    "labels = []\n",
    "\n",
    "sentences = df['headline'].values\n",
    "labels = df['is_sarcastic'].values"
   ]
  },
  {
   "cell_type": "code",
   "execution_count": 52,
   "metadata": {
    "execution": {
     "iopub.execute_input": "2023-05-06T18:31:21.291209Z",
     "iopub.status.busy": "2023-05-06T18:31:21.290838Z",
     "iopub.status.idle": "2023-05-06T18:31:21.894167Z",
     "shell.execute_reply": "2023-05-06T18:31:21.893144Z",
     "shell.execute_reply.started": "2023-05-06T18:31:21.291145Z"
    },
    "id": "NBDh7849yyAA"
   },
   "outputs": [],
   "source": [
    "tokenizer = Tokenizer(oov_token = \"<OOV>\")\n",
    "tokenizer.fit_on_texts(sentences)\n",
    "word_index = tokenizer.word_index"
   ]
  },
  {
   "cell_type": "code",
   "execution_count": 53,
   "metadata": {
    "colab": {
     "base_uri": "https://localhost:8080/"
    },
    "execution": {
     "iopub.execute_input": "2023-05-06T18:31:21.895714Z",
     "iopub.status.busy": "2023-05-06T18:31:21.895407Z",
     "iopub.status.idle": "2023-05-06T18:31:21.933230Z",
     "shell.execute_reply": "2023-05-06T18:31:21.932066Z",
     "shell.execute_reply.started": "2023-05-06T18:31:21.895683Z"
    },
    "id": "kg1urn4ayyAA",
    "outputId": "6b149cdd-7f8d-4fd7-9005-d0aeabcba15c"
   },
   "outputs": [
    {
     "data": {
      "text/plain": [
       "['<OOV>', 'trump', 'new', 'man', 'get', 'woman', 'make', 'say', 'report', 'u']"
      ]
     },
     "execution_count": 53,
     "metadata": {},
     "output_type": "execute_result"
    }
   ],
   "source": [
    "list(word_index.keys())[:10]"
   ]
  },
  {
   "cell_type": "code",
   "execution_count": 54,
   "metadata": {
    "execution": {
     "iopub.execute_input": "2023-05-06T18:31:21.935380Z",
     "iopub.status.busy": "2023-05-06T18:31:21.934757Z",
     "iopub.status.idle": "2023-05-06T18:31:22.503296Z",
     "shell.execute_reply": "2023-05-06T18:31:22.502413Z",
     "shell.execute_reply.started": "2023-05-06T18:31:21.935332Z"
    },
    "id": "rs6LxBFqyyAB"
   },
   "outputs": [],
   "source": [
    "sequences = tokenizer.texts_to_sequences(sentences)\n",
    "padded = pad_sequences(sequences,padding = 'post')"
   ]
  },
  {
   "cell_type": "code",
   "execution_count": 55,
   "metadata": {
    "colab": {
     "base_uri": "https://localhost:8080/"
    },
    "execution": {
     "iopub.execute_input": "2023-05-06T18:31:22.505136Z",
     "iopub.status.busy": "2023-05-06T18:31:22.504555Z",
     "iopub.status.idle": "2023-05-06T18:31:22.727294Z",
     "shell.execute_reply": "2023-05-06T18:31:22.726241Z",
     "shell.execute_reply.started": "2023-05-06T18:31:22.505091Z"
    },
    "id": "v5qi7s8uyyAB",
    "outputId": "78ede332-b087-4eb9-fb56-7759807138b3"
   },
   "outputs": [
    {
     "data": {
      "text/plain": [
       "[12095, 267, 2454, 5237, 2128, 615, 1010]"
      ]
     },
     "execution_count": 55,
     "metadata": {},
     "output_type": "execute_result"
    }
   ],
   "source": [
    "sequences[0]"
   ]
  },
  {
   "cell_type": "code",
   "execution_count": 56,
   "metadata": {
    "colab": {
     "base_uri": "https://localhost:8080/"
    },
    "execution": {
     "iopub.execute_input": "2023-05-06T18:31:22.729237Z",
     "iopub.status.busy": "2023-05-06T18:31:22.728686Z",
     "iopub.status.idle": "2023-05-06T18:31:22.737917Z",
     "shell.execute_reply": "2023-05-06T18:31:22.736942Z",
     "shell.execute_reply.started": "2023-05-06T18:31:22.729196Z"
    },
    "id": "_RX6WxQFyyAB",
    "outputId": "51364fb7-3391-4ec8-db34-4a3055203cd7"
   },
   "outputs": [
    {
     "data": {
      "text/plain": [
       "array([[12095,   267,  2454, ...,     0,     0,     0],\n",
       "       [ 6002,  1398,   688, ...,     0,     0,     0],\n",
       "       [  223,  7125, 12096, ...,     0,     0,     0],\n",
       "       ...,\n",
       "       [  562,  2830,   271, ...,     0,     0,     0],\n",
       "       [ 1412,   975,  2880, ...,     0,     0,     0],\n",
       "       [  117,  2861,   200, ...,     0,     0,     0]])"
      ]
     },
     "execution_count": 56,
     "metadata": {},
     "output_type": "execute_result"
    }
   ],
   "source": [
    "padded"
   ]
  },
  {
   "cell_type": "code",
   "execution_count": 57,
   "metadata": {
    "colab": {
     "base_uri": "https://localhost:8080/"
    },
    "execution": {
     "iopub.execute_input": "2023-05-06T18:31:22.739631Z",
     "iopub.status.busy": "2023-05-06T18:31:22.739209Z",
     "iopub.status.idle": "2023-05-06T18:31:22.749458Z",
     "shell.execute_reply": "2023-05-06T18:31:22.748369Z",
     "shell.execute_reply.started": "2023-05-06T18:31:22.739574Z"
    },
    "id": "keBWQEnpyyAC",
    "outputId": "f14ef58f-1bfb-4656-c36e-4dc59a4585f4"
   },
   "outputs": [
    {
     "name": "stdout",
     "output_type": "stream",
     "text": [
      "[12095   267  2454  5237  2128   615  1010     0     0     0     0     0\n",
      "     0     0     0     0     0     0     0     0     0     0     0     0\n",
      "     0     0     0     0     0     0     0     0     0     0     0     0\n",
      "     0     0     0     0     0     0     0     0     0     0     0     0\n",
      "     0     0     0     0     0     0     0     0     0     0     0     0\n",
      "     0     0     0     0     0     0     0     0     0     0     0     0\n",
      "     0     0     0     0     0     0     0     0     0     0     0     0\n",
      "     0     0     0     0     0     0     0     0     0     0     0     0\n",
      "     0     0     0     0     0     0     0     0     0     0]\n",
      "(28619, 106)\n"
     ]
    }
   ],
   "source": [
    "print(padded[0])\n",
    "print(padded.shape)"
   ]
  },
  {
   "cell_type": "code",
   "execution_count": 58,
   "metadata": {
    "execution": {
     "iopub.execute_input": "2023-05-06T18:31:22.751638Z",
     "iopub.status.busy": "2023-05-06T18:31:22.751211Z",
     "iopub.status.idle": "2023-05-06T18:31:22.759011Z",
     "shell.execute_reply": "2023-05-06T18:31:22.758283Z",
     "shell.execute_reply.started": "2023-05-06T18:31:22.751595Z"
    },
    "id": "jlo7DBZ_yyAC"
   },
   "outputs": [],
   "source": [
    "#after looking up on raw data tokens , sequences lets move forward to create training and testing dataset. Henceforth applying neural network\n",
    "vocab_size = 10000\n",
    "embedding_dim = 16\n",
    "max_length = 100\n",
    "trunc_type='post'\n",
    "padding_type='post'\n",
    "oov_tok = \"<OOV>\"\n",
    "training_size = 20000\n"
   ]
  },
  {
   "cell_type": "code",
   "execution_count": 59,
   "metadata": {
    "execution": {
     "iopub.execute_input": "2023-05-06T18:31:22.760553Z",
     "iopub.status.busy": "2023-05-06T18:31:22.760119Z",
     "iopub.status.idle": "2023-05-06T18:31:22.772699Z",
     "shell.execute_reply": "2023-05-06T18:31:22.771674Z",
     "shell.execute_reply.started": "2023-05-06T18:31:22.760522Z"
    },
    "id": "g2d4CRrVyyAD"
   },
   "outputs": [],
   "source": [
    "training_sentences = sentences[0:training_size]\n",
    "testing_sentences = sentences[training_size:]\n",
    "training_labels = labels[0:training_size]\n",
    "testing_labels = labels[training_size:]"
   ]
  },
  {
   "cell_type": "code",
   "execution_count": 60,
   "metadata": {
    "execution": {
     "iopub.execute_input": "2023-05-06T18:31:22.774119Z",
     "iopub.status.busy": "2023-05-06T18:31:22.773817Z",
     "iopub.status.idle": "2023-05-06T18:31:23.905276Z",
     "shell.execute_reply": "2023-05-06T18:31:23.904193Z",
     "shell.execute_reply.started": "2023-05-06T18:31:22.774091Z"
    },
    "id": "LvACsjBMyyAD"
   },
   "outputs": [],
   "source": [
    "tokenizer = Tokenizer(num_words=vocab_size, oov_token=oov_tok)\n",
    "tokenizer.fit_on_texts(training_sentences)\n",
    "\n",
    "word_index = tokenizer.word_index\n",
    "\n",
    "training_sequences = tokenizer.texts_to_sequences(training_sentences)\n",
    "training_padded = pad_sequences(training_sequences, maxlen=max_length, padding=padding_type, truncating=trunc_type)\n",
    "\n",
    "testing_sequences = tokenizer.texts_to_sequences(testing_sentences)\n",
    "testing_padded = pad_sequences(testing_sequences, maxlen=max_length, padding=padding_type, truncating=trunc_type)"
   ]
  },
  {
   "cell_type": "code",
   "execution_count": 61,
   "metadata": {
    "execution": {
     "iopub.execute_input": "2023-05-06T18:31:23.907141Z",
     "iopub.status.busy": "2023-05-06T18:31:23.906722Z",
     "iopub.status.idle": "2023-05-06T18:31:23.923866Z",
     "shell.execute_reply": "2023-05-06T18:31:23.922729Z",
     "shell.execute_reply.started": "2023-05-06T18:31:23.907098Z"
    },
    "id": "Y7WyuLkeyyAD"
   },
   "outputs": [],
   "source": [
    "import numpy as np\n",
    "training_padded = np.array(training_padded)\n",
    "training_labels = np.array(training_labels)\n",
    "testing_padded = np.array(testing_padded)\n",
    "testing_labels = np.array(testing_labels)"
   ]
  },
  {
   "cell_type": "code",
   "execution_count": 62,
   "metadata": {
    "execution": {
     "iopub.execute_input": "2023-05-06T18:31:23.925837Z",
     "iopub.status.busy": "2023-05-06T18:31:23.925405Z",
     "iopub.status.idle": "2023-05-06T18:31:24.061485Z",
     "shell.execute_reply": "2023-05-06T18:31:24.060558Z",
     "shell.execute_reply.started": "2023-05-06T18:31:23.925781Z"
    },
    "id": "S60y2Y2dyyAE"
   },
   "outputs": [],
   "source": [
    "model = tf.keras.Sequential([\n",
    "    tf.keras.layers.Embedding(vocab_size, embedding_dim, input_length=max_length),\n",
    "    tf.keras.layers.GlobalAveragePooling1D(),\n",
    "    tf.keras.layers.Dense(24, activation='relu'),\n",
    "    tf.keras.layers.Dense(1, activation='sigmoid')\n",
    "])\n",
    "model.compile(loss='binary_crossentropy',optimizer='adam',metrics=['accuracy'])"
   ]
  },
  {
   "cell_type": "code",
   "execution_count": 63,
   "metadata": {
    "colab": {
     "base_uri": "https://localhost:8080/"
    },
    "execution": {
     "iopub.execute_input": "2023-05-06T18:31:24.063384Z",
     "iopub.status.busy": "2023-05-06T18:31:24.062921Z",
     "iopub.status.idle": "2023-05-06T18:31:24.071605Z",
     "shell.execute_reply": "2023-05-06T18:31:24.070739Z",
     "shell.execute_reply.started": "2023-05-06T18:31:24.063340Z"
    },
    "id": "7Yz0gk0LyyAE",
    "outputId": "1e71f7dc-d639-4bfe-ff3e-2609b6ae23c8"
   },
   "outputs": [
    {
     "name": "stdout",
     "output_type": "stream",
     "text": [
      "Model: \"sequential_1\"\n",
      "_________________________________________________________________\n",
      " Layer (type)                Output Shape              Param #   \n",
      "=================================================================\n",
      " embedding_1 (Embedding)     (None, 100, 16)           160000    \n",
      "                                                                 \n",
      " global_average_pooling1d_1   (None, 16)               0         \n",
      " (GlobalAveragePooling1D)                                        \n",
      "                                                                 \n",
      " dense_2 (Dense)             (None, 24)                408       \n",
      "                                                                 \n",
      " dense_3 (Dense)             (None, 1)                 25        \n",
      "                                                                 \n",
      "=================================================================\n",
      "Total params: 160,433\n",
      "Trainable params: 160,433\n",
      "Non-trainable params: 0\n",
      "_________________________________________________________________\n"
     ]
    }
   ],
   "source": [
    "model.summary()"
   ]
  },
  {
   "cell_type": "code",
   "execution_count": 64,
   "metadata": {
    "colab": {
     "base_uri": "https://localhost:8080/"
    },
    "execution": {
     "iopub.execute_input": "2023-05-06T18:31:24.073356Z",
     "iopub.status.busy": "2023-05-06T18:31:24.072852Z",
     "iopub.status.idle": "2023-05-06T18:32:16.520235Z",
     "shell.execute_reply": "2023-05-06T18:32:16.519359Z",
     "shell.execute_reply.started": "2023-05-06T18:31:24.073316Z"
    },
    "id": "3cVPhRIFyyAE",
    "outputId": "09b6e684-a088-4393-95c7-79819ada5613"
   },
   "outputs": [
    {
     "name": "stdout",
     "output_type": "stream",
     "text": [
      "Epoch 1/30\n",
      "625/625 - 7s - loss: 0.6887 - accuracy: 0.5354 - val_loss: 0.6746 - val_accuracy: 0.6678 - 7s/epoch - 11ms/step\n",
      "Epoch 2/30\n",
      "625/625 - 5s - loss: 0.5813 - accuracy: 0.7310 - val_loss: 0.4957 - val_accuracy: 0.7761 - 5s/epoch - 7ms/step\n",
      "Epoch 3/30\n",
      "625/625 - 5s - loss: 0.4219 - accuracy: 0.8177 - val_loss: 0.4559 - val_accuracy: 0.7780 - 5s/epoch - 8ms/step\n",
      "Epoch 4/30\n",
      "625/625 - 5s - loss: 0.3513 - accuracy: 0.8498 - val_loss: 0.4302 - val_accuracy: 0.8044 - 5s/epoch - 8ms/step\n",
      "Epoch 5/30\n",
      "625/625 - 5s - loss: 0.3121 - accuracy: 0.8694 - val_loss: 0.4303 - val_accuracy: 0.8051 - 5s/epoch - 7ms/step\n",
      "Epoch 6/30\n",
      "625/625 - 5s - loss: 0.2813 - accuracy: 0.8827 - val_loss: 0.4593 - val_accuracy: 0.7864 - 5s/epoch - 8ms/step\n",
      "Epoch 7/30\n",
      "625/625 - 5s - loss: 0.2591 - accuracy: 0.8937 - val_loss: 0.4578 - val_accuracy: 0.8038 - 5s/epoch - 8ms/step\n",
      "Epoch 8/30\n",
      "625/625 - 5s - loss: 0.2397 - accuracy: 0.9031 - val_loss: 0.4689 - val_accuracy: 0.8037 - 5s/epoch - 8ms/step\n",
      "Epoch 9/30\n",
      "625/625 - 5s - loss: 0.2250 - accuracy: 0.9072 - val_loss: 0.4805 - val_accuracy: 0.8004 - 5s/epoch - 8ms/step\n",
      "Epoch 10/30\n",
      "625/625 - 5s - loss: 0.2099 - accuracy: 0.9156 - val_loss: 0.4977 - val_accuracy: 0.8010 - 5s/epoch - 8ms/step\n",
      "Epoch 11/30\n",
      "625/625 - 5s - loss: 0.2005 - accuracy: 0.9198 - val_loss: 0.5195 - val_accuracy: 0.8016 - 5s/epoch - 8ms/step\n",
      "Epoch 12/30\n",
      "625/625 - 5s - loss: 0.1881 - accuracy: 0.9255 - val_loss: 0.5383 - val_accuracy: 0.7972 - 5s/epoch - 8ms/step\n",
      "Epoch 13/30\n",
      "625/625 - 5s - loss: 0.1774 - accuracy: 0.9313 - val_loss: 0.5598 - val_accuracy: 0.7920 - 5s/epoch - 8ms/step\n",
      "Epoch 14/30\n",
      "625/625 - 5s - loss: 0.1678 - accuracy: 0.9359 - val_loss: 0.5892 - val_accuracy: 0.7859 - 5s/epoch - 8ms/step\n",
      "Epoch 15/30\n",
      "625/625 - 5s - loss: 0.1607 - accuracy: 0.9388 - val_loss: 0.6112 - val_accuracy: 0.7878 - 5s/epoch - 7ms/step\n",
      "Epoch 16/30\n",
      "625/625 - 5s - loss: 0.1559 - accuracy: 0.9401 - val_loss: 0.6383 - val_accuracy: 0.7883 - 5s/epoch - 8ms/step\n",
      "Epoch 17/30\n",
      "625/625 - 5s - loss: 0.1480 - accuracy: 0.9427 - val_loss: 0.6605 - val_accuracy: 0.7829 - 5s/epoch - 8ms/step\n",
      "Epoch 18/30\n",
      "625/625 - 5s - loss: 0.1422 - accuracy: 0.9463 - val_loss: 0.6901 - val_accuracy: 0.7786 - 5s/epoch - 8ms/step\n",
      "Epoch 19/30\n",
      "625/625 - 5s - loss: 0.1378 - accuracy: 0.9470 - val_loss: 0.7119 - val_accuracy: 0.7803 - 5s/epoch - 8ms/step\n",
      "Epoch 20/30\n",
      "625/625 - 5s - loss: 0.1331 - accuracy: 0.9488 - val_loss: 0.7640 - val_accuracy: 0.7850 - 5s/epoch - 8ms/step\n",
      "Epoch 21/30\n",
      "625/625 - 5s - loss: 0.1307 - accuracy: 0.9516 - val_loss: 0.7625 - val_accuracy: 0.7793 - 5s/epoch - 7ms/step\n",
      "Epoch 22/30\n",
      "625/625 - 5s - loss: 0.1259 - accuracy: 0.9537 - val_loss: 0.7945 - val_accuracy: 0.7807 - 5s/epoch - 8ms/step\n",
      "Epoch 23/30\n",
      "625/625 - 5s - loss: 0.1204 - accuracy: 0.9553 - val_loss: 0.8430 - val_accuracy: 0.7790 - 5s/epoch - 8ms/step\n",
      "Epoch 24/30\n",
      "625/625 - 5s - loss: 0.1172 - accuracy: 0.9547 - val_loss: 0.8547 - val_accuracy: 0.7689 - 5s/epoch - 8ms/step\n",
      "Epoch 25/30\n",
      "625/625 - 5s - loss: 0.1127 - accuracy: 0.9582 - val_loss: 0.8702 - val_accuracy: 0.7755 - 5s/epoch - 8ms/step\n",
      "Epoch 26/30\n",
      "625/625 - 5s - loss: 0.1091 - accuracy: 0.9596 - val_loss: 0.8990 - val_accuracy: 0.7732 - 5s/epoch - 8ms/step\n",
      "Epoch 27/30\n",
      "625/625 - 5s - loss: 0.1041 - accuracy: 0.9622 - val_loss: 0.9437 - val_accuracy: 0.7719 - 5s/epoch - 8ms/step\n",
      "Epoch 28/30\n",
      "625/625 - 5s - loss: 0.1034 - accuracy: 0.9628 - val_loss: 0.9746 - val_accuracy: 0.7734 - 5s/epoch - 8ms/step\n",
      "Epoch 29/30\n",
      "625/625 - 5s - loss: 0.1011 - accuracy: 0.9633 - val_loss: 0.9998 - val_accuracy: 0.7722 - 5s/epoch - 8ms/step\n",
      "Epoch 30/30\n",
      "625/625 - 5s - loss: 0.1006 - accuracy: 0.9622 - val_loss: 1.0218 - val_accuracy: 0.7728 - 5s/epoch - 8ms/step\n"
     ]
    }
   ],
   "source": [
    "num_epochs = 30\n",
    "history = model.fit(training_padded, training_labels, epochs=num_epochs, validation_data=(testing_padded, testing_labels), verbose=2)"
   ]
  },
  {
   "cell_type": "code",
   "execution_count": 65,
   "metadata": {
    "colab": {
     "base_uri": "https://localhost:8080/",
     "height": 881
    },
    "execution": {
     "iopub.execute_input": "2023-05-06T18:32:16.522250Z",
     "iopub.status.busy": "2023-05-06T18:32:16.521820Z",
     "iopub.status.idle": "2023-05-06T18:32:16.900862Z",
     "shell.execute_reply": "2023-05-06T18:32:16.900106Z",
     "shell.execute_reply.started": "2023-05-06T18:32:16.522205Z"
    },
    "id": "D452mDuOyyAE",
    "outputId": "1dc3b306-ef4d-4b43-eac0-77a0e5e6a179"
   },
   "outputs": [
    {
     "data": {
      "image/png": "[encoded data removed]",
      "text/plain": [
       "<Figure size 432x288 with 1 Axes>"
      ]
     },
     "metadata": {
      "needs_background": "light"
     },
     "output_type": "display_data"
    },
    {
     "data": {
      "image/png": "[encoded data removed]",
      "text/plain": [
       "<Figure size 432x288 with 1 Axes>"
      ]
     },
     "metadata": {
      "needs_background": "light"
     },
     "output_type": "display_data"
    }
   ],
   "source": [
    "import matplotlib.pyplot as plt\n",
    "\n",
    "\n",
    "def plot_graphs(history, string):\n",
    "  plt.plot(history.history[string])\n",
    "  plt.plot(history.history['val_'+string])\n",
    "  plt.xlabel(\"Epochs\")\n",
    "  plt.ylabel(string)\n",
    "  plt.legend([string, 'val_'+string])\n",
    "  plt.show()\n",
    "  \n",
    "plot_graphs(history, \"accuracy\")\n",
    "plot_graphs(history, \"loss\")"
   ]
  },
  {
   "cell_type": "code",
   "execution_count": 66,
   "metadata": {
    "colab": {
     "base_uri": "https://localhost:8080/"
    },
    "execution": {
     "iopub.execute_input": "2023-05-06T18:32:16.902666Z",
     "iopub.status.busy": "2023-05-06T18:32:16.902137Z",
     "iopub.status.idle": "2023-05-06T18:32:17.204705Z",
     "shell.execute_reply": "2023-05-06T18:32:17.203780Z",
     "shell.execute_reply.started": "2023-05-06T18:32:16.902633Z"
    },
    "id": "x2ERbjGdyyAF",
    "outputId": "e9c4e203-0d04-4eb8-804d-f4bbee4d0813"
   },
   "outputs": [
    {
     "name": "stdout",
     "output_type": "stream",
     "text": [
      "270/270 [==============================] - 1s 3ms/step\n"
     ]
    }
   ],
   "source": [
    "pred = (model.predict(testing_padded) > 0.5).astype(\"int32\")"
   ]
  },
  {
   "cell_type": "code",
   "execution_count": 67,
   "metadata": {
    "colab": {
     "base_uri": "https://localhost:8080/"
    },
    "execution": {
     "iopub.execute_input": "2023-05-06T18:32:17.206515Z",
     "iopub.status.busy": "2023-05-06T18:32:17.206061Z",
     "iopub.status.idle": "2023-05-06T18:32:17.233016Z",
     "shell.execute_reply": "2023-05-06T18:32:17.232028Z",
     "shell.execute_reply.started": "2023-05-06T18:32:17.206472Z"
    },
    "id": "XN3zr_OjyyAF",
    "outputId": "90c42cd6-67b3-4b8d-d296-c66a8fc774b0"
   },
   "outputs": [
    {
     "name": "stdout",
     "output_type": "stream",
     "text": [
      "               precision    recall  f1-score   support\n",
      "\n",
      "Not Sarcastic       0.78      0.79      0.79      4524\n",
      "    Sarcastic       0.77      0.75      0.76      4095\n",
      "\n",
      "     accuracy                           0.77      8619\n",
      "    macro avg       0.77      0.77      0.77      8619\n",
      " weighted avg       0.77      0.77      0.77      8619\n",
      "\n"
     ]
    }
   ],
   "source": [
    "from sklearn.metrics import classification_report\n",
    "\n",
    "print(classification_report(testing_labels,pred,target_names = ['Not Sarcastic','Sarcastic']))"
   ]
  },
  {
   "cell_type": "code",
   "execution_count": 69,
   "metadata": {
    "id": "gkysAicO6QS7"
   },
   "outputs": [],
   "source": [
    "keras.models.save_model(model, \"sarcasm_preprocessed_model.h5\")"
   ]
  },
  {
   "cell_type": "code",
   "execution_count": null,
   "metadata": {},
   "outputs": [],
   "source": []
  }
 ],
 "metadata": {
  "colab": {
   "provenance": []
  },
  "kernelspec": {
   "display_name": "Python 3 (ipykernel)",
   "language": "python",
   "name": "python3"
  },
  "language_info": {
   "codemirror_mode": {
    "name": "ipython",
    "version": 3
   },
   "file_extension": ".py",
   "mimetype": "text/x-python",
   "name": "python",
   "nbconvert_exporter": "python",
   "pygments_lexer": "ipython3",
   "version": "3.9.12"
  }
 },
 "nbformat": 4,
 "nbformat_minor": 1
}
